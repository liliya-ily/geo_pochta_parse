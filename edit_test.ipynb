{
    "cells": [
        {
            "cell_type": "code",
            "execution_count": 1,
            "source": [
                "import pandas as pd"
            ],
            "outputs": [],
            "metadata": {}
        },
        {
            "cell_type": "code",
            "execution_count": 2,
            "source": [
                "df = pd.read_csv('geo_pochta_parse\\\\test.csv')\r\n",
                "df.info()"
            ],
            "outputs": [
                {
                    "output_type": "stream",
                    "name": "stdout",
                    "text": [
                        "<class 'pandas.core.frame.DataFrame'>\n",
                        "RangeIndex: 12373 entries, 0 to 12372\n",
                        "Data columns (total 3 columns):\n",
                        " #   Column            Non-Null Count  Dtype  \n",
                        "---  ------            --------------  -----  \n",
                        " 0   street            12373 non-null  object \n",
                        " 1   house             12310 non-null  object \n",
                        " 2   amount_mailboxes  12310 non-null  float64\n",
                        "dtypes: float64(1), object(2)\n",
                        "memory usage: 290.1+ KB\n"
                    ]
                }
            ],
            "metadata": {}
        },
        {
            "cell_type": "code",
            "execution_count": 3,
            "source": [
                "null_list = list(df[df.isnull().any(1)].index)"
            ],
            "outputs": [],
            "metadata": {}
        },
        {
            "cell_type": "code",
            "execution_count": 4,
            "source": [
                "df = df.drop(null_list)\r\n",
                "df.reset_index(inplace = True, drop = True)"
            ],
            "outputs": [],
            "metadata": {}
        },
        {
            "cell_type": "code",
            "execution_count": 5,
            "source": [
                "df.info()"
            ],
            "outputs": [
                {
                    "output_type": "stream",
                    "name": "stdout",
                    "text": [
                        "<class 'pandas.core.frame.DataFrame'>\n",
                        "RangeIndex: 12310 entries, 0 to 12309\n",
                        "Data columns (total 3 columns):\n",
                        " #   Column            Non-Null Count  Dtype  \n",
                        "---  ------            --------------  -----  \n",
                        " 0   street            12310 non-null  object \n",
                        " 1   house             12310 non-null  object \n",
                        " 2   amount_mailboxes  12310 non-null  float64\n",
                        "dtypes: float64(1), object(2)\n",
                        "memory usage: 288.6+ KB\n"
                    ]
                }
            ],
            "metadata": {}
        },
        {
            "cell_type": "code",
            "execution_count": 6,
            "source": [
                "df"
            ],
            "outputs": [
                {
                    "output_type": "execute_result",
                    "data": {
                        "text/plain": [
                            "              street  house  amount_mailboxes\n",
                            "0      пер Армянский  1/8с1               1.0\n",
                            "1      пер Армянский  1/8с2               1.0\n",
                            "2      пер Армянский  1/8с3               1.0\n",
                            "3      пер Армянский    2с1               1.0\n",
                            "4      пер Армянский    2с2               1.0\n",
                            "...              ...    ...               ...\n",
                            "12305    ул Петровка   38с8               1.0\n",
                            "12306    ул Петровка   38с9               1.0\n",
                            "12307    ул Петровка  38с10               1.0\n",
                            "12308    ул Петровка  38с11               1.0\n",
                            "12309    ул Петровка    38Г               1.0\n",
                            "\n",
                            "[12310 rows x 3 columns]"
                        ],
                        "text/html": [
                            "<div>\n",
                            "<style scoped>\n",
                            "    .dataframe tbody tr th:only-of-type {\n",
                            "        vertical-align: middle;\n",
                            "    }\n",
                            "\n",
                            "    .dataframe tbody tr th {\n",
                            "        vertical-align: top;\n",
                            "    }\n",
                            "\n",
                            "    .dataframe thead th {\n",
                            "        text-align: right;\n",
                            "    }\n",
                            "</style>\n",
                            "<table border=\"1\" class=\"dataframe\">\n",
                            "  <thead>\n",
                            "    <tr style=\"text-align: right;\">\n",
                            "      <th></th>\n",
                            "      <th>street</th>\n",
                            "      <th>house</th>\n",
                            "      <th>amount_mailboxes</th>\n",
                            "    </tr>\n",
                            "  </thead>\n",
                            "  <tbody>\n",
                            "    <tr>\n",
                            "      <th>0</th>\n",
                            "      <td>пер Армянский</td>\n",
                            "      <td>1/8с1</td>\n",
                            "      <td>1.0</td>\n",
                            "    </tr>\n",
                            "    <tr>\n",
                            "      <th>1</th>\n",
                            "      <td>пер Армянский</td>\n",
                            "      <td>1/8с2</td>\n",
                            "      <td>1.0</td>\n",
                            "    </tr>\n",
                            "    <tr>\n",
                            "      <th>2</th>\n",
                            "      <td>пер Армянский</td>\n",
                            "      <td>1/8с3</td>\n",
                            "      <td>1.0</td>\n",
                            "    </tr>\n",
                            "    <tr>\n",
                            "      <th>3</th>\n",
                            "      <td>пер Армянский</td>\n",
                            "      <td>2с1</td>\n",
                            "      <td>1.0</td>\n",
                            "    </tr>\n",
                            "    <tr>\n",
                            "      <th>4</th>\n",
                            "      <td>пер Армянский</td>\n",
                            "      <td>2с2</td>\n",
                            "      <td>1.0</td>\n",
                            "    </tr>\n",
                            "    <tr>\n",
                            "      <th>...</th>\n",
                            "      <td>...</td>\n",
                            "      <td>...</td>\n",
                            "      <td>...</td>\n",
                            "    </tr>\n",
                            "    <tr>\n",
                            "      <th>12305</th>\n",
                            "      <td>ул Петровка</td>\n",
                            "      <td>38с8</td>\n",
                            "      <td>1.0</td>\n",
                            "    </tr>\n",
                            "    <tr>\n",
                            "      <th>12306</th>\n",
                            "      <td>ул Петровка</td>\n",
                            "      <td>38с9</td>\n",
                            "      <td>1.0</td>\n",
                            "    </tr>\n",
                            "    <tr>\n",
                            "      <th>12307</th>\n",
                            "      <td>ул Петровка</td>\n",
                            "      <td>38с10</td>\n",
                            "      <td>1.0</td>\n",
                            "    </tr>\n",
                            "    <tr>\n",
                            "      <th>12308</th>\n",
                            "      <td>ул Петровка</td>\n",
                            "      <td>38с11</td>\n",
                            "      <td>1.0</td>\n",
                            "    </tr>\n",
                            "    <tr>\n",
                            "      <th>12309</th>\n",
                            "      <td>ул Петровка</td>\n",
                            "      <td>38Г</td>\n",
                            "      <td>1.0</td>\n",
                            "    </tr>\n",
                            "  </tbody>\n",
                            "</table>\n",
                            "<p>12310 rows × 3 columns</p>\n",
                            "</div>"
                        ]
                    },
                    "metadata": {},
                    "execution_count": 6
                }
            ],
            "metadata": {}
        }
    ],
    "metadata": {
        "orig_nbformat": 4,
        "language_info": {
            "name": "python",
            "version": "3.8.5",
            "mimetype": "text/x-python",
            "codemirror_mode": {
                "name": "ipython",
                "version": 3
            },
            "pygments_lexer": "ipython3",
            "nbconvert_exporter": "python",
            "file_extension": ".py"
        },
        "kernelspec": {
            "name": "python3",
            "display_name": "Python 3.8.5 64-bit"
        },
        "interpreter": {
            "hash": "2db524e06e9f5f4ffedc911c917cb75e12dbc923643829bf417064a77eb14d37"
        }
    },
    "nbformat": 4,
    "nbformat_minor": 2
}